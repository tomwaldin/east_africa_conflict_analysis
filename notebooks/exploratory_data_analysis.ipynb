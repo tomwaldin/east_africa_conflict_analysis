{
 "cells": [
  {
   "cell_type": "code",
   "execution_count": null,
   "id": "11d7d7dd",
   "metadata": {},
   "outputs": [],
   "source": [
    "from src.data_cleaning import load_data\n",
    "\n",
    "data = load_data()\n",
    "\n"
   ]
  },
  {
   "cell_type": "code",
   "execution_count": 12,
   "id": "ea6b4af1",
   "metadata": {},
   "outputs": [
    {
     "data": {
      "text/html": [
       "<div>\n",
       "<style scoped>\n",
       "    .dataframe tbody tr th:only-of-type {\n",
       "        vertical-align: middle;\n",
       "    }\n",
       "\n",
       "    .dataframe tbody tr th {\n",
       "        vertical-align: top;\n",
       "    }\n",
       "\n",
       "    .dataframe thead th {\n",
       "        text-align: right;\n",
       "    }\n",
       "</style>\n",
       "<table border=\"1\" class=\"dataframe\">\n",
       "  <thead>\n",
       "    <tr style=\"text-align: right;\">\n",
       "      <th></th>\n",
       "      <th>WEEK</th>\n",
       "      <th>REGION</th>\n",
       "      <th>COUNTRY</th>\n",
       "      <th>ADMIN1</th>\n",
       "      <th>EVENT_TYPE</th>\n",
       "      <th>SUB_EVENT_TYPE</th>\n",
       "      <th>EVENTS</th>\n",
       "      <th>FATALITIES</th>\n",
       "      <th>POPULATION_EXPOSURE</th>\n",
       "      <th>DISORDER_TYPE</th>\n",
       "      <th>ID</th>\n",
       "      <th>CENTROID_LATITUDE</th>\n",
       "      <th>CENTROID_LONGITUDE</th>\n",
       "      <th>geometry</th>\n",
       "    </tr>\n",
       "  </thead>\n",
       "  <tbody>\n",
       "    <tr>\n",
       "      <th>82503</th>\n",
       "      <td>24-January-1998</td>\n",
       "      <td>Eastern Africa</td>\n",
       "      <td>Kenya</td>\n",
       "      <td>Baringo</td>\n",
       "      <td>Battles</td>\n",
       "      <td>Armed clash</td>\n",
       "      <td>1</td>\n",
       "      <td>0</td>\n",
       "      <td>NaN</td>\n",
       "      <td>Political violence</td>\n",
       "      <td>1535.0</td>\n",
       "      <td>0.7197</td>\n",
       "      <td>36.0185</td>\n",
       "      <td>POINT (36.018 0.72)</td>\n",
       "    </tr>\n",
       "    <tr>\n",
       "      <th>82504</th>\n",
       "      <td>16-January-1999</td>\n",
       "      <td>Eastern Africa</td>\n",
       "      <td>Kenya</td>\n",
       "      <td>Baringo</td>\n",
       "      <td>Battles</td>\n",
       "      <td>Armed clash</td>\n",
       "      <td>1</td>\n",
       "      <td>0</td>\n",
       "      <td>NaN</td>\n",
       "      <td>Political violence</td>\n",
       "      <td>1535.0</td>\n",
       "      <td>0.7197</td>\n",
       "      <td>36.0185</td>\n",
       "      <td>POINT (36.018 0.72)</td>\n",
       "    </tr>\n",
       "    <tr>\n",
       "      <th>82505</th>\n",
       "      <td>25-September-1999</td>\n",
       "      <td>Eastern Africa</td>\n",
       "      <td>Kenya</td>\n",
       "      <td>Baringo</td>\n",
       "      <td>Battles</td>\n",
       "      <td>Armed clash</td>\n",
       "      <td>1</td>\n",
       "      <td>0</td>\n",
       "      <td>NaN</td>\n",
       "      <td>Political violence</td>\n",
       "      <td>1535.0</td>\n",
       "      <td>0.7197</td>\n",
       "      <td>36.0185</td>\n",
       "      <td>POINT (36.018 0.72)</td>\n",
       "    </tr>\n",
       "    <tr>\n",
       "      <th>82506</th>\n",
       "      <td>07-August-2004</td>\n",
       "      <td>Eastern Africa</td>\n",
       "      <td>Kenya</td>\n",
       "      <td>Baringo</td>\n",
       "      <td>Battles</td>\n",
       "      <td>Armed clash</td>\n",
       "      <td>1</td>\n",
       "      <td>1</td>\n",
       "      <td>NaN</td>\n",
       "      <td>Political violence</td>\n",
       "      <td>1535.0</td>\n",
       "      <td>0.7197</td>\n",
       "      <td>36.0185</td>\n",
       "      <td>POINT (36.018 0.72)</td>\n",
       "    </tr>\n",
       "    <tr>\n",
       "      <th>82507</th>\n",
       "      <td>02-April-2005</td>\n",
       "      <td>Eastern Africa</td>\n",
       "      <td>Kenya</td>\n",
       "      <td>Baringo</td>\n",
       "      <td>Battles</td>\n",
       "      <td>Armed clash</td>\n",
       "      <td>1</td>\n",
       "      <td>0</td>\n",
       "      <td>NaN</td>\n",
       "      <td>Political violence</td>\n",
       "      <td>1535.0</td>\n",
       "      <td>0.7197</td>\n",
       "      <td>36.0185</td>\n",
       "      <td>POINT (36.018 0.72)</td>\n",
       "    </tr>\n",
       "  </tbody>\n",
       "</table>\n",
       "</div>"
      ],
      "text/plain": [
       "                    WEEK          REGION COUNTRY   ADMIN1 EVENT_TYPE  \\\n",
       "82503    24-January-1998  Eastern Africa   Kenya  Baringo    Battles   \n",
       "82504    16-January-1999  Eastern Africa   Kenya  Baringo    Battles   \n",
       "82505  25-September-1999  Eastern Africa   Kenya  Baringo    Battles   \n",
       "82506     07-August-2004  Eastern Africa   Kenya  Baringo    Battles   \n",
       "82507      02-April-2005  Eastern Africa   Kenya  Baringo    Battles   \n",
       "\n",
       "      SUB_EVENT_TYPE  EVENTS  FATALITIES  POPULATION_EXPOSURE  \\\n",
       "82503    Armed clash       1           0                  NaN   \n",
       "82504    Armed clash       1           0                  NaN   \n",
       "82505    Armed clash       1           0                  NaN   \n",
       "82506    Armed clash       1           1                  NaN   \n",
       "82507    Armed clash       1           0                  NaN   \n",
       "\n",
       "            DISORDER_TYPE      ID  CENTROID_LATITUDE  CENTROID_LONGITUDE  \\\n",
       "82503  Political violence  1535.0             0.7197             36.0185   \n",
       "82504  Political violence  1535.0             0.7197             36.0185   \n",
       "82505  Political violence  1535.0             0.7197             36.0185   \n",
       "82506  Political violence  1535.0             0.7197             36.0185   \n",
       "82507  Political violence  1535.0             0.7197             36.0185   \n",
       "\n",
       "                  geometry  \n",
       "82503  POINT (36.018 0.72)  \n",
       "82504  POINT (36.018 0.72)  \n",
       "82505  POINT (36.018 0.72)  \n",
       "82506  POINT (36.018 0.72)  \n",
       "82507  POINT (36.018 0.72)  "
      ]
     },
     "execution_count": 12,
     "metadata": {},
     "output_type": "execute_result"
    }
   ],
   "source": [
    "import pandas as pd\n",
    "import geopandas as gpd\n",
    "\n",
    "COMMON_CRS = \"EPSG:32637\"\n",
    "\n",
    "    # ACLED conflict data\n",
    "acled_df = pd.read_csv(\"../data/Africa_aggregated_data_up_to-2025-08-23.csv\")\n",
    "acled_gdf = gpd.GeoDataFrame(\n",
    "        acled_df,\n",
    "        geometry=gpd.points_from_xy(\n",
    "            acled_df['CENTROID_LONGITUDE'], \n",
    "            acled_df['CENTROID_LATITUDE']\n",
    "        ),\n",
    "        crs=COMMON_CRS\n",
    "        )\n",
    "    \n",
    "\n",
    "acled_gdf[acled_gdf['COUNTRY'] == 'Kenya'].head()"
   ]
  },
  {
   "cell_type": "code",
   "execution_count": 3,
   "id": "26cc4036",
   "metadata": {},
   "outputs": [
    {
     "name": "stderr",
     "output_type": "stream",
     "text": [
      "c:\\Users\\Tom\\anaconda3\\envs\\gisc412\\Lib\\site-packages\\pyogrio\\raw.py:198: RuntimeWarning: driver CSV does not support open option X\n",
      "  return ogr_read(\n",
      "c:\\Users\\Tom\\anaconda3\\envs\\gisc412\\Lib\\site-packages\\pyogrio\\raw.py:198: RuntimeWarning: driver CSV does not support open option Y\n",
      "  return ogr_read(\n",
      "c:\\Users\\Tom\\anaconda3\\envs\\gisc412\\Lib\\site-packages\\pyogrio\\raw.py:198: RuntimeWarning: driver CSV does not support open option CRS\n",
      "  return ogr_read(\n"
     ]
    }
   ],
   "source": [
    "acled = gpd.read_file(\n",
    "            \"../data/Africa_aggregated_data_up_to-2025-08-23.csv\",\n",
    "            x='CENTROID_LONGITUDE',\n",
    "            y='CENTROID_LATITUDE',\n",
    "            crs='EPSG:4326'\n",
    "        )"
   ]
  },
  {
   "cell_type": "code",
   "execution_count": 8,
   "id": "6b3b6fb8",
   "metadata": {},
   "outputs": [
    {
     "data": {
      "text/plain": [
       "pandas.core.frame.DataFrame"
      ]
     },
     "execution_count": 8,
     "metadata": {},
     "output_type": "execute_result"
    }
   ],
   "source": [
    "acled.head()\n",
    "type(acled)"
   ]
  },
  {
   "cell_type": "code",
   "execution_count": 13,
   "id": "c573b034",
   "metadata": {},
   "outputs": [
    {
     "name": "stdout",
     "output_type": "stream",
     "text": [
      "Current directory: c:\\Users\\Tom\\Desktop\\east_africa_conflict_analysis\\notebooks\n",
      "Parent directory contents: ['.git', '.gitignore', 'data', 'docs', 'main.py', 'notebooks', 'README.md', 'requirements.txt', 'src']\n",
      "Data directory contents: ['Africa_aggregated_data_up_to-2025-08-23.csv', 'eth_pop_2020_CN_100m_R2025A_v1.tif', 'gadm41_ETH_shp', 'gadm41_KEN_shp', 'gadm41_SSD_shp', 'gadm41_UGA_shp', 'ken_pop_2020_CN_100m_R2025A_v1.tif', 'ssd_pop_2020_CN_100m_R2025A_v1.tif', 'uga_pop_2020_CN_100m_R2025A_v1.tif', '_archive']\n"
     ]
    }
   ],
   "source": [
    "import os\n",
    "print(\"Current directory:\", os.getcwd())\n",
    "print(\"Parent directory contents:\", os.listdir('..'))\n",
    "if os.path.exists('../data/'):\n",
    "    print(\"Data directory contents:\", os.listdir('../data/'))"
   ]
  },
  {
   "cell_type": "code",
   "execution_count": 14,
   "id": "be813d82",
   "metadata": {},
   "outputs": [],
   "source": [
    "acled_df = pd.read_csv(\"../data/Africa_aggregated_data_up_to-2025-08-23.csv\")"
   ]
  },
  {
   "cell_type": "code",
   "execution_count": null,
   "id": "0983cd2e",
   "metadata": {},
   "outputs": [],
   "source": []
  }
 ],
 "metadata": {
  "kernelspec": {
   "display_name": "gisc412",
   "language": "python",
   "name": "python3"
  },
  "language_info": {
   "codemirror_mode": {
    "name": "ipython",
    "version": 3
   },
   "file_extension": ".py",
   "mimetype": "text/x-python",
   "name": "python",
   "nbconvert_exporter": "python",
   "pygments_lexer": "ipython3",
   "version": "3.13.5"
  }
 },
 "nbformat": 4,
 "nbformat_minor": 5
}
